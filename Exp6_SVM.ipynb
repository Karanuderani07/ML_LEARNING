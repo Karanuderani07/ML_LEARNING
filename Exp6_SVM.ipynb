{
  "nbformat": 4,
  "nbformat_minor": 0,
  "metadata": {
    "colab": {
      "provenance": [],
      "authorship_tag": "ABX9TyMXqKhgKkt1Uu3Gu1pQSVaA",
      "include_colab_link": true
    },
    "kernelspec": {
      "name": "python3",
      "display_name": "Python 3"
    },
    "language_info": {
      "name": "python"
    }
  },
  "cells": [
    {
      "cell_type": "markdown",
      "metadata": {
        "id": "view-in-github",
        "colab_type": "text"
      },
      "source": [
        "<a href=\"https://colab.research.google.com/github/Karanuderani07/ML_LEARNING/blob/main/Exp6_SVM.ipynb\" target=\"_parent\"><img src=\"https://colab.research.google.com/assets/colab-badge.svg\" alt=\"Open In Colab\"/></a>"
      ]
    },
    {
      "cell_type": "code",
      "execution_count": 5,
      "metadata": {
        "colab": {
          "base_uri": "https://localhost:8080/"
        },
        "id": "-U-tQf8PqRw-",
        "outputId": "1b283243-a78d-424d-8b3b-03e7d2ab5ca3"
      },
      "outputs": [
        {
          "output_type": "stream",
          "name": "stdout",
          "text": [
            "Dataset URL: https://www.kaggle.com/datasets/heptapod/titanic\n",
            "License(s): DbCL-1.0\n",
            "Downloading titanic.zip to /content\n",
            "  0% 0.00/10.8k [00:00<?, ?B/s]\n",
            "100% 10.8k/10.8k [00:00<00:00, 29.1MB/s]\n",
            "Archive:  titanic.zip\n",
            "  Length      Date    Time    Name\n",
            "---------  ---------- -----   ----\n",
            "    83879  2019-09-20 15:44   train_and_test2.csv\n",
            "---------                     -------\n",
            "    83879                     1 file\n",
            "Loaded file: train_and_test2.csv\n",
            "\n",
            "Columns in dataset: ['Passengerid', 'Age', 'Fare', 'Sex', 'sibsp', 'zero', 'zero.1', 'zero.2', 'zero.3', 'zero.4', 'zero.5', 'zero.6', 'Parch', 'zero.7', 'zero.8', 'zero.9', 'zero.10', 'zero.11', 'zero.12', 'zero.13', 'zero.14', 'Pclass', 'zero.15', 'zero.16', 'Embarked', 'zero.17', 'zero.18', '2urvived']\n"
          ]
        }
      ],
      "source": [
        "\n",
        "!pip install kaggle --quiet\n",
        "!mkdir -p ~/.kaggle\n",
        "!echo '{\"username\":\"karanuderani\",\"key\":\"5fc4a285fc0912cd162a06efd99cfa14\"}' > ~/.kaggle/kaggle.json\n",
        "!chmod 600 ~/.kaggle/kaggle.json\n",
        "!kaggle datasets download -d heptapod/titanic --force\n",
        "!unzip -l titanic.zip\n",
        "!unzip -o titanic.zip > /dev/null\n",
        "\n",
        "import pandas as pd\n",
        "import os\n",
        "for file in os.listdir():\n",
        "    if file.endswith('.csv'):\n",
        "        print(\"Loaded file:\", file)\n",
        "        df = pd.read_csv(file)\n",
        "        break\n",
        "\n",
        "from sklearn.model_selection import train_test_split\n",
        "from sklearn.preprocessing import LabelEncoder, StandardScaler\n",
        "from sklearn.svm import SVC\n",
        "from sklearn.metrics import accuracy_score, classification_report\n",
        "\n",
        "if 'Survived' not in df.columns:\n",
        "    print(\"\\nColumns in dataset:\", df.columns.tolist())\n",
        "else:\n",
        "    df = df[['Pclass','Sex','Age','Fare','Survived']].dropna()\n",
        "    X = df[['Pclass','Sex','Age','Fare']]\n",
        "    y = df['Survived']\n",
        "\n",
        "    label_encoder = LabelEncoder()\n",
        "    X['Sex'] = label_encoder.fit_transform(X['Sex'])\n",
        "\n",
        "    scaler = StandardScaler()\n",
        "    X_scaled = scaler.fit_transform(X)\n",
        "\n",
        "    X_train, X_test, y_train, y_test = train_test_split(X_scaled, y, test_size=0.2, random_state=42)\n",
        "\n",
        "    svm_model = SVC(kernel='rbf', C=1, gamma='auto')\n",
        "    svm_model.fit(X_train, y_train)\n",
        "    y_pred = svm_model.predict(X_test)\n",
        "\n",
        "    print(\"Accuracy:\", accuracy_score(y_test, y_pred))\n",
        "    print(\"\\nClassification Report:\\n\", classification_report(y_test, y_pred))\n"
      ]
    },
    {
      "cell_type": "code",
      "source": [],
      "metadata": {
        "id": "UJzTP0bmqmsB"
      },
      "execution_count": null,
      "outputs": []
    }
  ]
}