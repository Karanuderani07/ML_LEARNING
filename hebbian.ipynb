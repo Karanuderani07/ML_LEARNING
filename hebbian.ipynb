{
  "nbformat": 4,
  "nbformat_minor": 0,
  "metadata": {
    "colab": {
      "provenance": [],
      "authorship_tag": "ABX9TyOlBjdrjeSzWzkLNtWcPc/J",
      "include_colab_link": true
    },
    "kernelspec": {
      "name": "python3",
      "display_name": "Python 3"
    },
    "language_info": {
      "name": "python"
    }
  },
  "cells": [
    {
      "cell_type": "markdown",
      "metadata": {
        "id": "view-in-github",
        "colab_type": "text"
      },
      "source": [
        "<a href=\"https://colab.research.google.com/github/Karanuderani07/ML_LEARNING/blob/main/hebbian.ipynb\" target=\"_parent\"><img src=\"https://colab.research.google.com/assets/colab-badge.svg\" alt=\"Open In Colab\"/></a>"
      ]
    },
    {
      "cell_type": "code",
      "execution_count": null,
      "metadata": {
        "colab": {
          "base_uri": "https://localhost:8080/"
        },
        "collapsed": true,
        "id": "uuuH8vRLMn-v",
        "outputId": "6bb9e2f0-f536-49b5-8efa-5017d1fe2fe9"
      },
      "outputs": [
        {
          "output_type": "stream",
          "name": "stdout",
          "text": [
            "Initial weights:\n",
            " [[ 0.49671415]\n",
            " [-0.1382643 ]]\n",
            "\n",
            "After sample 1 (Input: [0 0], Output: 0):\n",
            "Weight update:\n",
            " [[0.]\n",
            " [0.]]\n",
            "Updated weights:\n",
            " [[ 0.49671415]\n",
            " [-0.1382643 ]]\n",
            "\n",
            "After sample 2 (Input: [0 1], Output: 0):\n",
            "Weight update:\n",
            " [[0.]\n",
            " [0.]]\n",
            "Updated weights:\n",
            " [[ 0.49671415]\n",
            " [-0.1382643 ]]\n",
            "\n",
            "After sample 3 (Input: [1 0], Output: 0):\n",
            "Weight update:\n",
            " [[0.]\n",
            " [0.]]\n",
            "Updated weights:\n",
            " [[ 0.49671415]\n",
            " [-0.1382643 ]]\n",
            "\n",
            "After sample 4 (Input: [1 1], Output: 1):\n",
            "Weight update:\n",
            " [[0.1]\n",
            " [0.1]]\n",
            "Updated weights:\n",
            " [[ 0.59671415]\n",
            " [-0.0382643 ]]\n"
          ]
        }
      ],
      "source": [
        "#\"Neurons that fire together, wire together\"\n",
        "\n",
        "import numpy as np\n",
        "\n",
        "\n",
        "X = np.array([[0, 0],\n",
        "              [0, 1],\n",
        "              [1, 0],\n",
        "              [1, 1]])\n",
        "\n",
        "\n",
        "Y = np.array([[0],\n",
        "              [0],\n",
        "              [0],\n",
        "              [1]])\n",
        "\n",
        "np.random.seed(42)\n",
        "W = np.random.randn(2, 1)\n",
        "lr = 0.1\n",
        "\n",
        "print(\"Initial weights:\\n\", W)\n",
        "\n",
        "for i in range(len(X)):\n",
        "    x = X[i].reshape(2, 1)\n",
        "    y = Y[i].reshape(1, 1)\n",
        "    dW = lr * np.dot(x, y)\n",
        "    W += dW\n",
        "    print(f\"\\nAfter sample {i+1} (Input: {X[i]}, Output: {Y[i][0]}):\")\n",
        "    print(\"Weight update:\\n\", dW)\n",
        "    print(\"Updated weights:\\n\", W)\n"
      ]
    },
    {
      "cell_type": "code",
      "source": [],
      "metadata": {
        "id": "PPh33fnwSwel"
      },
      "execution_count": null,
      "outputs": []
    }
  ]
}