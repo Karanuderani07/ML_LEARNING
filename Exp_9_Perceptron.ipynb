{
  "nbformat": 4,
  "nbformat_minor": 0,
  "metadata": {
    "colab": {
      "provenance": [],
      "authorship_tag": "ABX9TyM4goCBv2HnIUq5pjkutHzK",
      "include_colab_link": true
    },
    "kernelspec": {
      "name": "python3",
      "display_name": "Python 3"
    },
    "language_info": {
      "name": "python"
    }
  },
  "cells": [
    {
      "cell_type": "markdown",
      "metadata": {
        "id": "view-in-github",
        "colab_type": "text"
      },
      "source": [
        "<a href=\"https://colab.research.google.com/github/Karanuderani07/ML_LEARNING/blob/main/Exp_9_Perceptron.ipynb\" target=\"_parent\"><img src=\"https://colab.research.google.com/assets/colab-badge.svg\" alt=\"Open In Colab\"/></a>"
      ]
    },
    {
      "cell_type": "code",
      "execution_count": null,
      "metadata": {
        "id": "uu0ZeqGGJoI_"
      },
      "outputs": [],
      "source": [
        "import numpy as np\n",
        "\n",
        "def sigmoid(x):\n",
        "    return 1 / (1 + np.exp(-x))\n",
        "\n",
        "def sigmoid_derivative(x):\n",
        "    s = sigmoid(x)\n",
        "    return s * (1 - s)\n",
        "\n",
        "X = np.array([[0, 0],\n",
        "              [0, 1],\n",
        "              [1, 0],\n",
        "              [1, 1]])\n",
        "y = np.array([[0],\n",
        "              [1],\n",
        "              [1],\n",
        "              [0]])\n",
        "\n",
        "np.random.seed(42)\n",
        "W1 = np.random.randn(2, 2)\n",
        "b1 = np.zeros((1, 2))\n",
        "W2 = np.random.randn(2, 1)\n",
        "b2 = np.zeros((1, 1))\n",
        "lr = 0.5\n",
        "\n",
        "\n"
      ]
    },
    {
      "cell_type": "code",
      "source": [
        "def forward(X):\n",
        "    z1 = np.dot(X, W1) + b1\n",
        "    a1 = sigmoid(z1)\n",
        "    z2 = np.dot(a1, W2) + b2\n",
        "    a2 = sigmoid(z2)\n",
        "    return z1, a1, z2, a2\n",
        "\n",
        "def train_step(X, y):\n",
        "    global W1, b1, W2, b2\n",
        "    z1, a1, z2, a2 = forward(X)\n",
        "    d_a2 = -(y - a2)\n",
        "    d_z2 = d_a2 * sigmoid_derivative(z2)\n",
        "    dW2 = np.dot(a1.T, d_z2)\n",
        "    db2 = np.sum(d_z2, axis=0, keepdims=True)\n",
        "    d_a1 = np.dot(d_z2, W2.T)\n",
        "    d_z1 = d_a1 * sigmoid_derivative(z1)\n",
        "    dW1 = np.dot(X.T, d_z1)\n",
        "    db1 = np.sum(d_z1, axis=0, keepdims=True)\n",
        "    W1 -= lr * dW1\n",
        "    b1 -= lr * db1\n",
        "    W2 -= lr * dW2\n",
        "    b2 -= lr * db2\n",
        "    loss = np.mean((y - a2) ** 2)\n",
        "    return loss\n"
      ],
      "metadata": {
        "id": "IP_XCBShL8k2"
      },
      "execution_count": null,
      "outputs": []
    },
    {
      "cell_type": "code",
      "source": [
        "\n",
        "print(\"Initial W1:\\n\", W1)\n",
        "print(\"Initial W2:\\n\", W2)\n",
        "\n",
        "loss_before = np.mean((y - forward(X)[3]) ** 2)\n",
        "print(\"Loss before:\", loss_before)\n",
        "\n",
        "loss_after = train_step(X, y)\n",
        "print(\"Loss after:\", loss_after)\n",
        "\n",
        "print(\"Updated W1:\\n\", W1)\n",
        "print(\"Updated W2:\\n\", W2)"
      ],
      "metadata": {
        "colab": {
          "base_uri": "https://localhost:8080/"
        },
        "id": "clARYEI8L-eF",
        "outputId": "a6d76f92-353b-4f4f-c9d5-9cf286a8f029"
      },
      "execution_count": null,
      "outputs": [
        {
          "output_type": "stream",
          "name": "stdout",
          "text": [
            "Initial W1:\n",
            " [[ 0.49671415 -0.1382643 ]\n",
            " [ 0.64768854  1.52302986]]\n",
            "Initial W2:\n",
            " [[-0.23415337]\n",
            " [-0.23413696]]\n",
            "Loss before: 0.2558299419444368\n",
            "Loss after: 0.2558299419444368\n",
            "Updated W1:\n",
            " [[ 0.49502422 -0.14044231]\n",
            " [ 0.64606203  1.52244287]]\n",
            "Updated W2:\n",
            " [[-0.20925282]\n",
            " [-0.21041497]]\n"
          ]
        }
      ]
    }
  ]
}