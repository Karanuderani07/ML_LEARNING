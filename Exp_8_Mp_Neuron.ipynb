{
  "nbformat": 4,
  "nbformat_minor": 0,
  "metadata": {
    "colab": {
      "provenance": [],
      "authorship_tag": "ABX9TyOlVI1O0QvID581KkXXqJQP",
      "include_colab_link": true
    },
    "kernelspec": {
      "name": "python3",
      "display_name": "Python 3"
    },
    "language_info": {
      "name": "python"
    }
  },
  "cells": [
    {
      "cell_type": "markdown",
      "metadata": {
        "id": "view-in-github",
        "colab_type": "text"
      },
      "source": [
        "<a href=\"https://colab.research.google.com/github/Karanuderani07/ML_LEARNING/blob/main/Exp_8_Mp_Neuron.ipynb\" target=\"_parent\"><img src=\"https://colab.research.google.com/assets/colab-badge.svg\" alt=\"Open In Colab\"/></a>"
      ]
    },
    {
      "cell_type": "code",
      "execution_count": null,
      "metadata": {
        "colab": {
          "base_uri": "https://localhost:8080/"
        },
        "id": "C74JTKPIPwmq",
        "outputId": "9152fbf3-675a-4274-f1aa-da4ca59b09a7"
      },
      "outputs": [
        {
          "output_type": "stream",
          "name": "stdout",
          "text": [
            "Enter binary values for two inputs (0 or 1):\n",
            "Input x1 (0 or 1): 0\n",
            "Input x2 (0 or 1): 1\n",
            "Output of the MP Neuron (AND Gate): 0\n"
          ]
        }
      ],
      "source": [
        "def mp_neuron(x1, x2, w1=1, w2=1, threshold=2):\n",
        "    weighted_sum = (x1 * w1) + (x2 * w2)\n",
        "    if weighted_sum >= threshold:\n",
        "        return 1\n",
        "    else:\n",
        "        return 0\n",
        "\n",
        "print(\"Enter binary values for two inputs (0 or 1):\")\n",
        "x1 = int(input(\"Input x1 (0 or 1): \"))\n",
        "x2 = int(input(\"Input x2 (0 or 1): \"))\n",
        "\n",
        "output = mp_neuron(x1, x2)\n",
        "\n",
        "print(f\"Output of the MP Neuron (AND Gate): {output}\")\n"
      ]
    },
    {
      "cell_type": "code",
      "source": [
        "def mp_neuron(x1, x2, w1=1, w2=1, threshold=1):\n",
        "    weighted_sum = (x1 * w1) + (x2 * w2)\n",
        "    if weighted_sum >= threshold:\n",
        "        return 1\n",
        "    else:\n",
        "        return 0\n",
        "\n",
        "print(\"Enter binary values for two inputs (0 or 1):\")\n",
        "x1 = int(input(\"Input x1 (0 or 1): \"))\n",
        "x2 = int(input(\"Input x2 (0 or 1): \"))\n",
        "\n",
        "output = mp_neuron(x1, x2)\n",
        "\n",
        "print(f\"Output of the MP Neuron (AND Gate): {output}\")\n"
      ],
      "metadata": {
        "colab": {
          "base_uri": "https://localhost:8080/"
        },
        "id": "kk7opEYzU3kQ",
        "outputId": "b742a644-8f74-477e-865b-42e6cd95d4dc"
      },
      "execution_count": null,
      "outputs": [
        {
          "output_type": "stream",
          "name": "stdout",
          "text": [
            "Enter binary values for two inputs (0 or 1):\n",
            "Input x1 (0 or 1): 0\n",
            "Input x2 (0 or 1): 1\n",
            "Output of the MP Neuron (AND Gate): 1\n"
          ]
        }
      ]
    }
  ]
}